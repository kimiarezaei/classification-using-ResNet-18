{
 "cells": [
  {
   "cell_type": "markdown",
   "id": "a17208ec-2c1b-447c-8bdb-73b3db46730f",
   "metadata": {
    "tags": []
   },
   "source": [
    "# Classification of HIE Grading using resnet18 and Kfold cross validation\n",
    "- Here the model is doing k fold cross validation and we choose the best model based on AUC reusult of epochs. Then test the best model on the test dataset."
   ]
  },
  {
   "cell_type": "code",
   "execution_count": 1,
   "id": "7beec451-7b3c-4bf7-b730-fa87ad21e522",
   "metadata": {
    "tags": []
   },
   "outputs": [
    {
     "name": "stderr",
     "output_type": "stream",
     "text": [
      "C:\\Users\\krezaei\\.conda\\envs\\vasie_kimia\\Lib\\site-packages\\torchaudio\\backend\\utils.py:74: UserWarning: No audio backend is available.\n",
      "  warnings.warn(\"No audio backend is available.\")\n"
     ]
    }
   ],
   "source": [
    "import pandas as pd\n",
    "import numpy as np\n",
    "import matplotlib.pyplot as plt\n",
    "import torch\n",
    "import torch.nn as nn\n",
    "import torch.nn.functional as F\n",
    "from torch.utils.data.dataloader import DataLoader, Dataset\n",
    "from torch.utils.data.sampler import SubsetRandomSampler\n",
    "from torch.utils.data import random_split\n",
    "import torchvision\n",
    "from torchvision import datasets, models\n",
    "from torchvision.utils import make_grid\n",
    "import torchvision.transforms as transforms\n",
    "import torch.optim as optim\n",
    "from PIL import Image           #PIL is python image library\n",
    "from IPython.display import display\n",
    "from sklearn import metrics             #for evaluation of the system\n",
    "import time\n",
    "from typing import List, Dict, Tuple\n",
    "import os\n",
    "import glob\n",
    "import nums_from_string                  #extracting annotation number based on file name\n",
    "import copy\n",
    "import pickle\n",
    "import wandb\n",
    "import random\n",
    "from sklearn.model_selection import KFold\n",
    "from scipy import stats\n",
    "from sklearn.metrics import confusion_matrix, roc_curve, ConfusionMatrixDisplay, auc, accuracy_score, f1_score\n",
    "from torcheval.metrics.aggregation.auc import AUC\n",
    "from torchmetrics.classification import BinaryAccuracy, BinaryAUROC\n",
    "import wandb\n",
    "from tqdm import tqdm\n",
    "from itertools import chain\n",
    "%matplotlib inline"
   ]
  },
  {
   "cell_type": "code",
   "execution_count": 2,
   "id": "6fbfd373-79f9-4554-a40d-f2467a9b00e8",
   "metadata": {},
   "outputs": [],
   "source": [
    "project_name = '29022024_resnet18_HIE'"
   ]
  },
  {
   "cell_type": "code",
   "execution_count": 3,
   "id": "6432edaf-47c4-4d8f-8001-d6c42be93cb2",
   "metadata": {},
   "outputs": [
    {
     "name": "stderr",
     "output_type": "stream",
     "text": [
      "\u001b[34m\u001b[1mwandb\u001b[0m: Currently logged in as: \u001b[33mkimia-rezaei90\u001b[0m (\u001b[33mkimia_rezaei\u001b[0m). Use \u001b[1m`wandb login --relogin`\u001b[0m to force relogin\n"
     ]
    },
    {
     "data": {
      "text/plain": [
       "True"
      ]
     },
     "execution_count": 3,
     "metadata": {},
     "output_type": "execute_result"
    }
   ],
   "source": [
    "wandb.login()"
   ]
  },
  {
   "cell_type": "markdown",
   "id": "b76fea46-7b0e-445c-a6d2-3874d15d72fe",
   "metadata": {
    "tags": []
   },
   "source": [
    "# Image preprocessing\n",
    "- change data to tensor\n",
    "- Normlize: Calculate the mean and standard deviation by averaging the values for each color channel across all the images in the dataset  \n",
    "- resize the images"
   ]
  },
  {
   "cell_type": "code",
   "execution_count": 4,
   "id": "effd2528-3a4d-41fb-ab18-18b1586b1c45",
   "metadata": {},
   "outputs": [],
   "source": [
    "# \"seed\" remember the random chosen data so that we can run our notebook many times and use the same data\n",
    "random_seed = 42          \n",
    "torch.manual_seed(random_seed)\n",
    "random.seed(random_seed)\n",
    "torch.cuda.manual_seed(random_seed)"
   ]
  },
  {
   "cell_type": "code",
   "execution_count": 5,
   "id": "54966e27-b6a1-41dc-b6bb-80efcd9ecf8b",
   "metadata": {},
   "outputs": [],
   "source": [
    "# build transformer to transform images to tensors\n",
    "transformer =  transforms.Compose([\n",
    "    transforms.ToTensor(),\n",
    "    transforms.Normalize((0.3168, 0.7164, 0.4096), (0.1729, 0.0835, 0.1050)),              # mean and std are 0.5\n",
    "    transforms.Resize((224,224), antialias=True)                              # resize the images\n",
    "])"
   ]
  },
  {
   "cell_type": "code",
   "execution_count": 6,
   "id": "92ea961e-8ac8-41ec-89cf-b766bb443efa",
   "metadata": {},
   "outputs": [],
   "source": [
    "#get annotaion file\n",
    "annotation_df = pd.read_csv('data/HIE grades.csv')\n",
    "annotation_df = annotation_df[['Study ID', 'binary grade']]"
   ]
  },
  {
   "cell_type": "code",
   "execution_count": 7,
   "id": "9f14607f-770e-42b2-8fb5-97f44af8db37",
   "metadata": {
    "tags": []
   },
   "outputs": [],
   "source": [
    "#get images path\n",
    "files_path = glob.glob('13122023_spectrogram_HIE/*/stitched')"
   ]
  },
  {
   "cell_type": "code",
   "execution_count": 8,
   "id": "54852430-0cc9-4079-be90-7bfe6a6fd14d",
   "metadata": {
    "tags": []
   },
   "outputs": [],
   "source": [
    "# make a dataset reader based on my folder arrangment\n",
    "class my_image_dataset(Dataset):\n",
    "    def __init__(self, root_dir, transformer, annotation_file):\n",
    "        self.root_dir = root_dir\n",
    "        self.annotation = annotation_file\n",
    "        self.transformer = transformer\n",
    "        self.samples = []\n",
    "        \n",
    "        #define each image path and its label(class 0 or 1)\n",
    "        for image_path in self.root_dir:\n",
    "            baby_code = image_path.split('\\\\')[1]  #get baby code\n",
    "            class_label = (self.annotation[self.annotation['Study ID'] == baby_code]['binary grade']).iloc[0]     #get baby annotation\n",
    "            self.samples.extend([[image_path, class_label]] )   # add all items of the loop to one list and add labels for each image\n",
    "    \n",
    "    # getting number of data later using len(dataset) function\n",
    "    def __len__(self):\n",
    "            return len(self.samples)\n",
    "\n",
    "    # read images and their labels and apply transformer on them    \n",
    "    def __getitem__(self, idx):\n",
    "        image_path, class_label = self.samples[idx]\n",
    "        image = Image.open(image_path)              #read the image\n",
    "        image = self.transformer(image)            # apply transformer on the image\n",
    "        return image, class_label"
   ]
  },
  {
   "cell_type": "markdown",
   "id": "2ecf3079-7fca-4dc9-ab27-278e18992d24",
   "metadata": {},
   "source": [
    "# Define the model"
   ]
  },
  {
   "cell_type": "markdown",
   "id": "1a3d48f8-140d-4798-9b7a-8e6fa20a980f",
   "metadata": {},
   "source": [
    "**calculate output size**                   \n",
    "output size= ((input_size-kernel_size+(2*padding))/stride)+1  "
   ]
  },
  {
   "cell_type": "code",
   "execution_count": 9,
   "id": "8e940b0e-2e10-4e95-a56a-6dc30eb36be0",
   "metadata": {},
   "outputs": [],
   "source": [
    "# now define the model as a class\n",
    "class my_resnet18(nn.Module):\n",
    "    def __init__(self):\n",
    "        super().__init__()\n",
    "        \n",
    "        my_model = models.resnet18(pretrained=True)   #load resnet18 model\n",
    "        num_features = my_model.fc.in_features     #extract fc layers features\n",
    "        my_model.fc = nn.Linear(num_features, 2) #(num_of_class == 2)\n",
    "        \n",
    "        self.model = my_model\n",
    "\n",
    "    def forward(self, x):\n",
    "        return self.model(x)"
   ]
  },
  {
   "cell_type": "code",
   "execution_count": 10,
   "id": "e62af877-d376-4a73-8828-6d80930ccdd1",
   "metadata": {},
   "outputs": [
    {
     "name": "stderr",
     "output_type": "stream",
     "text": [
      "C:\\Users\\krezaei\\.conda\\envs\\vasie_kimia\\Lib\\site-packages\\torchvision\\models\\_utils.py:208: UserWarning: The parameter 'pretrained' is deprecated since 0.13 and may be removed in the future, please use 'weights' instead.\n",
      "  warnings.warn(\n",
      "C:\\Users\\krezaei\\.conda\\envs\\vasie_kimia\\Lib\\site-packages\\torchvision\\models\\_utils.py:223: UserWarning: Arguments other than a weight enum or `None` for 'weights' are deprecated since 0.13 and may be removed in the future. The current behavior is equivalent to passing `weights=ResNet18_Weights.IMAGENET1K_V1`. You can also use `weights=ResNet18_Weights.DEFAULT` to get the most up-to-date weights.\n",
      "  warnings.warn(msg)\n"
     ]
    },
    {
     "data": {
      "text/plain": [
       "my_resnet18(\n",
       "  (model): ResNet(\n",
       "    (conv1): Conv2d(3, 64, kernel_size=(7, 7), stride=(2, 2), padding=(3, 3), bias=False)\n",
       "    (bn1): BatchNorm2d(64, eps=1e-05, momentum=0.1, affine=True, track_running_stats=True)\n",
       "    (relu): ReLU(inplace=True)\n",
       "    (maxpool): MaxPool2d(kernel_size=3, stride=2, padding=1, dilation=1, ceil_mode=False)\n",
       "    (layer1): Sequential(\n",
       "      (0): BasicBlock(\n",
       "        (conv1): Conv2d(64, 64, kernel_size=(3, 3), stride=(1, 1), padding=(1, 1), bias=False)\n",
       "        (bn1): BatchNorm2d(64, eps=1e-05, momentum=0.1, affine=True, track_running_stats=True)\n",
       "        (relu): ReLU(inplace=True)\n",
       "        (conv2): Conv2d(64, 64, kernel_size=(3, 3), stride=(1, 1), padding=(1, 1), bias=False)\n",
       "        (bn2): BatchNorm2d(64, eps=1e-05, momentum=0.1, affine=True, track_running_stats=True)\n",
       "      )\n",
       "      (1): BasicBlock(\n",
       "        (conv1): Conv2d(64, 64, kernel_size=(3, 3), stride=(1, 1), padding=(1, 1), bias=False)\n",
       "        (bn1): BatchNorm2d(64, eps=1e-05, momentum=0.1, affine=True, track_running_stats=True)\n",
       "        (relu): ReLU(inplace=True)\n",
       "        (conv2): Conv2d(64, 64, kernel_size=(3, 3), stride=(1, 1), padding=(1, 1), bias=False)\n",
       "        (bn2): BatchNorm2d(64, eps=1e-05, momentum=0.1, affine=True, track_running_stats=True)\n",
       "      )\n",
       "    )\n",
       "    (layer2): Sequential(\n",
       "      (0): BasicBlock(\n",
       "        (conv1): Conv2d(64, 128, kernel_size=(3, 3), stride=(2, 2), padding=(1, 1), bias=False)\n",
       "        (bn1): BatchNorm2d(128, eps=1e-05, momentum=0.1, affine=True, track_running_stats=True)\n",
       "        (relu): ReLU(inplace=True)\n",
       "        (conv2): Conv2d(128, 128, kernel_size=(3, 3), stride=(1, 1), padding=(1, 1), bias=False)\n",
       "        (bn2): BatchNorm2d(128, eps=1e-05, momentum=0.1, affine=True, track_running_stats=True)\n",
       "        (downsample): Sequential(\n",
       "          (0): Conv2d(64, 128, kernel_size=(1, 1), stride=(2, 2), bias=False)\n",
       "          (1): BatchNorm2d(128, eps=1e-05, momentum=0.1, affine=True, track_running_stats=True)\n",
       "        )\n",
       "      )\n",
       "      (1): BasicBlock(\n",
       "        (conv1): Conv2d(128, 128, kernel_size=(3, 3), stride=(1, 1), padding=(1, 1), bias=False)\n",
       "        (bn1): BatchNorm2d(128, eps=1e-05, momentum=0.1, affine=True, track_running_stats=True)\n",
       "        (relu): ReLU(inplace=True)\n",
       "        (conv2): Conv2d(128, 128, kernel_size=(3, 3), stride=(1, 1), padding=(1, 1), bias=False)\n",
       "        (bn2): BatchNorm2d(128, eps=1e-05, momentum=0.1, affine=True, track_running_stats=True)\n",
       "      )\n",
       "    )\n",
       "    (layer3): Sequential(\n",
       "      (0): BasicBlock(\n",
       "        (conv1): Conv2d(128, 256, kernel_size=(3, 3), stride=(2, 2), padding=(1, 1), bias=False)\n",
       "        (bn1): BatchNorm2d(256, eps=1e-05, momentum=0.1, affine=True, track_running_stats=True)\n",
       "        (relu): ReLU(inplace=True)\n",
       "        (conv2): Conv2d(256, 256, kernel_size=(3, 3), stride=(1, 1), padding=(1, 1), bias=False)\n",
       "        (bn2): BatchNorm2d(256, eps=1e-05, momentum=0.1, affine=True, track_running_stats=True)\n",
       "        (downsample): Sequential(\n",
       "          (0): Conv2d(128, 256, kernel_size=(1, 1), stride=(2, 2), bias=False)\n",
       "          (1): BatchNorm2d(256, eps=1e-05, momentum=0.1, affine=True, track_running_stats=True)\n",
       "        )\n",
       "      )\n",
       "      (1): BasicBlock(\n",
       "        (conv1): Conv2d(256, 256, kernel_size=(3, 3), stride=(1, 1), padding=(1, 1), bias=False)\n",
       "        (bn1): BatchNorm2d(256, eps=1e-05, momentum=0.1, affine=True, track_running_stats=True)\n",
       "        (relu): ReLU(inplace=True)\n",
       "        (conv2): Conv2d(256, 256, kernel_size=(3, 3), stride=(1, 1), padding=(1, 1), bias=False)\n",
       "        (bn2): BatchNorm2d(256, eps=1e-05, momentum=0.1, affine=True, track_running_stats=True)\n",
       "      )\n",
       "    )\n",
       "    (layer4): Sequential(\n",
       "      (0): BasicBlock(\n",
       "        (conv1): Conv2d(256, 512, kernel_size=(3, 3), stride=(2, 2), padding=(1, 1), bias=False)\n",
       "        (bn1): BatchNorm2d(512, eps=1e-05, momentum=0.1, affine=True, track_running_stats=True)\n",
       "        (relu): ReLU(inplace=True)\n",
       "        (conv2): Conv2d(512, 512, kernel_size=(3, 3), stride=(1, 1), padding=(1, 1), bias=False)\n",
       "        (bn2): BatchNorm2d(512, eps=1e-05, momentum=0.1, affine=True, track_running_stats=True)\n",
       "        (downsample): Sequential(\n",
       "          (0): Conv2d(256, 512, kernel_size=(1, 1), stride=(2, 2), bias=False)\n",
       "          (1): BatchNorm2d(512, eps=1e-05, momentum=0.1, affine=True, track_running_stats=True)\n",
       "        )\n",
       "      )\n",
       "      (1): BasicBlock(\n",
       "        (conv1): Conv2d(512, 512, kernel_size=(3, 3), stride=(1, 1), padding=(1, 1), bias=False)\n",
       "        (bn1): BatchNorm2d(512, eps=1e-05, momentum=0.1, affine=True, track_running_stats=True)\n",
       "        (relu): ReLU(inplace=True)\n",
       "        (conv2): Conv2d(512, 512, kernel_size=(3, 3), stride=(1, 1), padding=(1, 1), bias=False)\n",
       "        (bn2): BatchNorm2d(512, eps=1e-05, momentum=0.1, affine=True, track_running_stats=True)\n",
       "      )\n",
       "    )\n",
       "    (avgpool): AdaptiveAvgPool2d(output_size=(1, 1))\n",
       "    (fc): Linear(in_features=512, out_features=2, bias=True)\n",
       "  )\n",
       ")"
      ]
     },
     "execution_count": 10,
     "metadata": {},
     "output_type": "execute_result"
    }
   ],
   "source": [
    "my_model = my_resnet18()\n",
    "my_model"
   ]
  },
  {
   "cell_type": "markdown",
   "id": "fe5c3866-6f56-4ded-aab9-81b6a48f21ff",
   "metadata": {},
   "source": [
    "# Move data to GPU"
   ]
  },
  {
   "cell_type": "code",
   "execution_count": 11,
   "id": "194c0e10-8e1f-43aa-80df-bf8d5e600f9f",
   "metadata": {},
   "outputs": [],
   "source": [
    "#function for moving data and model to a chosen device(gpu or cpu)\n",
    "#device = 'cuda' if torch.cuda.is_available() else 'cpu'\n",
    "device = 'cuda:0'\n",
    "def to_device(data, device):    \n",
    "    if isinstance(data, (list, tuple, tuple)):\n",
    "        return [to_device(x, device) for x in data]    \n",
    "    return data.to(device, non_blocking=True)"
   ]
  },
  {
   "cell_type": "code",
   "execution_count": 12,
   "id": "533829a2-218d-4c51-85ea-1f6e7dda7d5e",
   "metadata": {},
   "outputs": [],
   "source": [
    "#create a class to wrap our existing data loaders and move batches of data to the selected device.\n",
    "class DeviceDataLoader():\n",
    "    def __init__(self, dl, device):\n",
    "        self.dl = dl\n",
    "        self.device = device\n",
    "        \n",
    "    'Yield a batch of data after moving it to device'    \n",
    "    def __iter__(self):\n",
    "        for b in self.dl:\n",
    "            yield to_device(b, self.device)\n",
    "            \n",
    "    def __len__(self):\n",
    "        return len(self.dl)     #number of batches           "
   ]
  },
  {
   "cell_type": "code",
   "execution_count": 13,
   "id": "0ee0806b-e6b1-424b-addb-ac91cfbd73f1",
   "metadata": {
    "tags": []
   },
   "outputs": [],
   "source": [
    "model_gpu = to_device(my_model,device)"
   ]
  },
  {
   "cell_type": "markdown",
   "id": "3ad37ab9-5fa0-4c94-a5d1-9e8ccfe9c72f",
   "metadata": {},
   "source": [
    "# Train and validate the model"
   ]
  },
  {
   "cell_type": "code",
   "execution_count": 14,
   "id": "5d6d0508-ad7a-422d-8699-254861667dfa",
   "metadata": {
    "tags": []
   },
   "outputs": [],
   "source": [
    "number_folds = 5\n",
    "epochs = 30\n",
    "lr = 1e-4\n",
    "opt_func = torch.optim.Adam"
   ]
  },
  {
   "cell_type": "code",
   "execution_count": 15,
   "id": "ca80f690-a068-49b7-bc73-0eea90cf12c4",
   "metadata": {
    "tags": []
   },
   "outputs": [
    {
     "data": {
      "text/html": [
       "Tracking run with wandb version 0.16.3"
      ],
      "text/plain": [
       "<IPython.core.display.HTML object>"
      ]
     },
     "metadata": {},
     "output_type": "display_data"
    },
    {
     "data": {
      "text/html": [
       "Run data is saved locally in <code>C:\\Users\\krezaei\\OneDrive - University College Cork\\jupyterdir\\rr_peaks_HIE_grades_anon_v2\\wandb\\run-20240305_153327-5kyuzdki</code>"
      ],
      "text/plain": [
       "<IPython.core.display.HTML object>"
      ]
     },
     "metadata": {},
     "output_type": "display_data"
    },
    {
     "data": {
      "text/html": [
       "Syncing run <strong><a href='https://wandb.ai/kimia_rezaei/05032024_resnet18_smalldataset_HIE/runs/5kyuzdki' target=\"_blank\">fold0</a></strong> to <a href='https://wandb.ai/kimia_rezaei/05032024_resnet18_smalldataset_HIE' target=\"_blank\">Weights & Biases</a> (<a href='https://wandb.me/run' target=\"_blank\">docs</a>)<br/>"
      ],
      "text/plain": [
       "<IPython.core.display.HTML object>"
      ]
     },
     "metadata": {},
     "output_type": "display_data"
    },
    {
     "data": {
      "text/html": [
       " View project at <a href='https://wandb.ai/kimia_rezaei/05032024_resnet18_smalldataset_HIE' target=\"_blank\">https://wandb.ai/kimia_rezaei/05032024_resnet18_smalldataset_HIE</a>"
      ],
      "text/plain": [
       "<IPython.core.display.HTML object>"
      ]
     },
     "metadata": {},
     "output_type": "display_data"
    },
    {
     "data": {
      "text/html": [
       " View run at <a href='https://wandb.ai/kimia_rezaei/05032024_resnet18_smalldataset_HIE/runs/5kyuzdki' target=\"_blank\">https://wandb.ai/kimia_rezaei/05032024_resnet18_smalldataset_HIE/runs/5kyuzdki</a>"
      ],
      "text/plain": [
       "<IPython.core.display.HTML object>"
      ]
     },
     "metadata": {},
     "output_type": "display_data"
    },
    {
     "name": "stdout",
     "output_type": "stream",
     "text": [
      "test_loss: 2.0498359501361847 test_acc: 0.625 test_AUC 0.6363636255264282 prediction tensor([9.8846e-01, 9.5705e-01, 1.3272e-01,  ..., 2.5065e-04, 9.9573e-01,\n",
      "        9.9516e-01], device='cuda:0') target tensor([1, 1, 1,  ..., 1, 1, 1], device='cuda:0')\n",
      "naems: ['101_A2', '102_A1', '102_A2', '107_A1', '107_A2', '113_A2', '119_A2', '120_A2', '126_A2', '127_A2', '128_A2', '138_A2', '142_A1', '144_A1', '145_A2', '147_A2', '151_A2', '153_A1', '162_A2', '175_A2', '178_A2', '17_A2', '180_A1', '185_A2'] target: tensor([1, 0, 0, 1, 0, 1, 1, 1, 0, 0, 0, 1, 0, 0, 1, 1, 1, 0, 0, 1, 1, 1, 0, 1]) pred_label: tensor([1, 0, 1, 1, 0, 1, 0, 1, 1, 1, 1, 1, 0, 0, 0, 1, 0, 0, 1, 1, 1, 1, 1, 1])\n"
     ]
    },
    {
     "data": {
      "text/html": [
       "Finishing last run (ID:5kyuzdki) before initializing another..."
      ],
      "text/plain": [
       "<IPython.core.display.HTML object>"
      ]
     },
     "metadata": {},
     "output_type": "display_data"
    },
    {
     "data": {
      "application/vnd.jupyter.widget-view+json": {
       "model_id": "4f36d05df697442fb0c2c58711113699",
       "version_major": 2,
       "version_minor": 0
      },
      "text/plain": [
       "VBox(children=(Label(value='0.001 MB of 0.001 MB uploaded\\r'), FloatProgress(value=1.0, max=1.0)))"
      ]
     },
     "metadata": {},
     "output_type": "display_data"
    },
    {
     "data": {
      "text/html": [
       "<style>\n",
       "    table.wandb td:nth-child(1) { padding: 0 10px; text-align: left ; width: auto;} td:nth-child(2) {text-align: left ; width: 100%}\n",
       "    .wandb-row { display: flex; flex-direction: row; flex-wrap: wrap; justify-content: flex-start; width: 100% }\n",
       "    .wandb-col { display: flex; flex-direction: column; flex-basis: 100%; flex: 1; padding: 10px; }\n",
       "    </style>\n",
       "<div class=\"wandb-row\"><div class=\"wandb-col\"><h3>Run history:</h3><br/><table class=\"wandb\"><tr><td>AUC</td><td>▁▇████████████████████████████</td></tr><tr><td>epoch</td><td>▁▁▁▂▂▂▂▃▃▃▃▄▄▄▄▅▅▅▅▆▆▆▆▇▇▇▇███</td></tr><tr><td>train loss</td><td>█▃▁▁▁▁▁▁▁▁▁▁▁▁▁▁▁▁▁▁▁▁▁▁▁▁▁▁▁▁</td></tr><tr><td>validation loss</td><td>█▃▂▁▂▁▁▁▁▁▁▁▁▁▁▁▁▁▁▁▁▁▁▁▁▁▁▁▁▁</td></tr></table><br/></div><div class=\"wandb-col\"><h3>Run summary:</h3><br/><table class=\"wandb\"><tr><td>AUC</td><td>0.99753</td></tr><tr><td>epoch</td><td>29</td></tr><tr><td>train loss</td><td>0.00011</td></tr><tr><td>validation loss</td><td>0.06568</td></tr></table><br/></div></div>"
      ],
      "text/plain": [
       "<IPython.core.display.HTML object>"
      ]
     },
     "metadata": {},
     "output_type": "display_data"
    },
    {
     "data": {
      "text/html": [
       " View run <strong style=\"color:#cdcd00\">fold0</strong> at: <a href='https://wandb.ai/kimia_rezaei/05032024_resnet18_smalldataset_HIE/runs/5kyuzdki' target=\"_blank\">https://wandb.ai/kimia_rezaei/05032024_resnet18_smalldataset_HIE/runs/5kyuzdki</a><br/>Synced 6 W&B file(s), 0 media file(s), 0 artifact file(s) and 0 other file(s)"
      ],
      "text/plain": [
       "<IPython.core.display.HTML object>"
      ]
     },
     "metadata": {},
     "output_type": "display_data"
    },
    {
     "data": {
      "text/html": [
       "Find logs at: <code>.\\wandb\\run-20240305_153327-5kyuzdki\\logs</code>"
      ],
      "text/plain": [
       "<IPython.core.display.HTML object>"
      ]
     },
     "metadata": {},
     "output_type": "display_data"
    },
    {
     "data": {
      "text/html": [
       "Successfully finished last run (ID:5kyuzdki). Initializing new run:<br/>"
      ],
      "text/plain": [
       "<IPython.core.display.HTML object>"
      ]
     },
     "metadata": {},
     "output_type": "display_data"
    },
    {
     "data": {
      "application/vnd.jupyter.widget-view+json": {
       "model_id": "9b9a16fc695a474da8c75685eb9a0e40",
       "version_major": 2,
       "version_minor": 0
      },
      "text/plain": [
       "VBox(children=(Label(value='Waiting for wandb.init()...\\r'), FloatProgress(value=0.011455555555746995, max=1.0…"
      ]
     },
     "metadata": {},
     "output_type": "display_data"
    },
    {
     "data": {
      "text/html": [
       "Tracking run with wandb version 0.16.3"
      ],
      "text/plain": [
       "<IPython.core.display.HTML object>"
      ]
     },
     "metadata": {},
     "output_type": "display_data"
    },
    {
     "data": {
      "text/html": [
       "Run data is saved locally in <code>C:\\Users\\krezaei\\OneDrive - University College Cork\\jupyterdir\\rr_peaks_HIE_grades_anon_v2\\wandb\\run-20240305_154859-tiig0doe</code>"
      ],
      "text/plain": [
       "<IPython.core.display.HTML object>"
      ]
     },
     "metadata": {},
     "output_type": "display_data"
    },
    {
     "data": {
      "text/html": [
       "Syncing run <strong><a href='https://wandb.ai/kimia_rezaei/05032024_resnet18_smalldataset_HIE/runs/tiig0doe' target=\"_blank\">fold1</a></strong> to <a href='https://wandb.ai/kimia_rezaei/05032024_resnet18_smalldataset_HIE' target=\"_blank\">Weights & Biases</a> (<a href='https://wandb.me/run' target=\"_blank\">docs</a>)<br/>"
      ],
      "text/plain": [
       "<IPython.core.display.HTML object>"
      ]
     },
     "metadata": {},
     "output_type": "display_data"
    },
    {
     "data": {
      "text/html": [
       " View project at <a href='https://wandb.ai/kimia_rezaei/05032024_resnet18_smalldataset_HIE' target=\"_blank\">https://wandb.ai/kimia_rezaei/05032024_resnet18_smalldataset_HIE</a>"
      ],
      "text/plain": [
       "<IPython.core.display.HTML object>"
      ]
     },
     "metadata": {},
     "output_type": "display_data"
    },
    {
     "data": {
      "text/html": [
       " View run at <a href='https://wandb.ai/kimia_rezaei/05032024_resnet18_smalldataset_HIE/runs/tiig0doe' target=\"_blank\">https://wandb.ai/kimia_rezaei/05032024_resnet18_smalldataset_HIE/runs/tiig0doe</a>"
      ],
      "text/plain": [
       "<IPython.core.display.HTML object>"
      ]
     },
     "metadata": {},
     "output_type": "display_data"
    },
    {
     "name": "stdout",
     "output_type": "stream",
     "text": [
      "test_loss: 2.8690732518831887 test_acc: 0.5 test_AUC 0.5454545021057129 prediction tensor([1.0000, 1.0000, 1.0000,  ..., 0.4974, 0.8769, 0.9399], device='cuda:0') target tensor([1, 1, 1,  ..., 0, 0, 0], device='cuda:0')\n",
      "naems: ['186_A2', '188_A2', '18_A2', '201_A2', '205_A2', '206_A1', '213_A2', '216_A2', '217_A2', '224_A1', '224_A2', '225_A1', '227_A2', '230_A1', '231_A1', '232_A2', '233_A2', '235_A2', '236_A1', '236_A2', '240_A2', '245_A2', '24_A1', '256_A2'] target: tensor([1, 0, 1, 1, 1, 1, 0, 1, 1, 0, 1, 0, 1, 0, 0, 1, 1, 0, 0, 0, 0, 0, 0, 0]) pred_label: tensor([1, 1, 1, 1, 1, 1, 0, 0, 1, 1, 0, 0, 0, 1, 0, 0, 1, 1, 1, 1, 1, 0, 0, 1])\n"
     ]
    },
    {
     "data": {
      "text/html": [
       "Finishing last run (ID:tiig0doe) before initializing another..."
      ],
      "text/plain": [
       "<IPython.core.display.HTML object>"
      ]
     },
     "metadata": {},
     "output_type": "display_data"
    },
    {
     "data": {
      "application/vnd.jupyter.widget-view+json": {
       "model_id": "11eb9307bbb042f38b9971de49624e44",
       "version_major": 2,
       "version_minor": 0
      },
      "text/plain": [
       "VBox(children=(Label(value='0.001 MB of 0.001 MB uploaded\\r'), FloatProgress(value=1.0, max=1.0)))"
      ]
     },
     "metadata": {},
     "output_type": "display_data"
    },
    {
     "data": {
      "text/html": [
       "<style>\n",
       "    table.wandb td:nth-child(1) { padding: 0 10px; text-align: left ; width: auto;} td:nth-child(2) {text-align: left ; width: 100%}\n",
       "    .wandb-row { display: flex; flex-direction: row; flex-wrap: wrap; justify-content: flex-start; width: 100% }\n",
       "    .wandb-col { display: flex; flex-direction: column; flex-basis: 100%; flex: 1; padding: 10px; }\n",
       "    </style>\n",
       "<div class=\"wandb-row\"><div class=\"wandb-col\"><h3>Run history:</h3><br/><table class=\"wandb\"><tr><td>AUC</td><td>▁█████████████████████████████</td></tr><tr><td>epoch</td><td>▁▁▁▂▂▂▂▃▃▃▃▄▄▄▄▅▅▅▅▆▆▆▆▇▇▇▇███</td></tr><tr><td>train loss</td><td>█▂▁▁▁▁▁▁▁▁▁▁▁▁▁▁▁▁▁▁▁▁▁▁▁▁▁▁▁▁</td></tr><tr><td>validation loss</td><td>█▃▂▂▂▂▁▁▁▁▁▁▁▁▁▁▁▁▁▁▁▁▁▁▁▁▁▁▁▁</td></tr></table><br/></div><div class=\"wandb-col\"><h3>Run summary:</h3><br/><table class=\"wandb\"><tr><td>AUC</td><td>0.99944</td></tr><tr><td>epoch</td><td>29</td></tr><tr><td>train loss</td><td>0.0002</td></tr><tr><td>validation loss</td><td>0.03241</td></tr></table><br/></div></div>"
      ],
      "text/plain": [
       "<IPython.core.display.HTML object>"
      ]
     },
     "metadata": {},
     "output_type": "display_data"
    },
    {
     "data": {
      "text/html": [
       " View run <strong style=\"color:#cdcd00\">fold1</strong> at: <a href='https://wandb.ai/kimia_rezaei/05032024_resnet18_smalldataset_HIE/runs/tiig0doe' target=\"_blank\">https://wandb.ai/kimia_rezaei/05032024_resnet18_smalldataset_HIE/runs/tiig0doe</a><br/>Synced 6 W&B file(s), 0 media file(s), 0 artifact file(s) and 0 other file(s)"
      ],
      "text/plain": [
       "<IPython.core.display.HTML object>"
      ]
     },
     "metadata": {},
     "output_type": "display_data"
    },
    {
     "data": {
      "text/html": [
       "Find logs at: <code>.\\wandb\\run-20240305_154859-tiig0doe\\logs</code>"
      ],
      "text/plain": [
       "<IPython.core.display.HTML object>"
      ]
     },
     "metadata": {},
     "output_type": "display_data"
    },
    {
     "data": {
      "text/html": [
       "Successfully finished last run (ID:tiig0doe). Initializing new run:<br/>"
      ],
      "text/plain": [
       "<IPython.core.display.HTML object>"
      ]
     },
     "metadata": {},
     "output_type": "display_data"
    },
    {
     "data": {
      "text/html": [
       "Tracking run with wandb version 0.16.3"
      ],
      "text/plain": [
       "<IPython.core.display.HTML object>"
      ]
     },
     "metadata": {},
     "output_type": "display_data"
    },
    {
     "data": {
      "text/html": [
       "Run data is saved locally in <code>C:\\Users\\krezaei\\OneDrive - University College Cork\\jupyterdir\\rr_peaks_HIE_grades_anon_v2\\wandb\\run-20240305_160400-y8olmebm</code>"
      ],
      "text/plain": [
       "<IPython.core.display.HTML object>"
      ]
     },
     "metadata": {},
     "output_type": "display_data"
    },
    {
     "data": {
      "text/html": [
       "Syncing run <strong><a href='https://wandb.ai/kimia_rezaei/05032024_resnet18_smalldataset_HIE/runs/y8olmebm' target=\"_blank\">fold2</a></strong> to <a href='https://wandb.ai/kimia_rezaei/05032024_resnet18_smalldataset_HIE' target=\"_blank\">Weights & Biases</a> (<a href='https://wandb.me/run' target=\"_blank\">docs</a>)<br/>"
      ],
      "text/plain": [
       "<IPython.core.display.HTML object>"
      ]
     },
     "metadata": {},
     "output_type": "display_data"
    },
    {
     "data": {
      "text/html": [
       " View project at <a href='https://wandb.ai/kimia_rezaei/05032024_resnet18_smalldataset_HIE' target=\"_blank\">https://wandb.ai/kimia_rezaei/05032024_resnet18_smalldataset_HIE</a>"
      ],
      "text/plain": [
       "<IPython.core.display.HTML object>"
      ]
     },
     "metadata": {},
     "output_type": "display_data"
    },
    {
     "data": {
      "text/html": [
       " View run at <a href='https://wandb.ai/kimia_rezaei/05032024_resnet18_smalldataset_HIE/runs/y8olmebm' target=\"_blank\">https://wandb.ai/kimia_rezaei/05032024_resnet18_smalldataset_HIE/runs/y8olmebm</a>"
      ],
      "text/plain": [
       "<IPython.core.display.HTML object>"
      ]
     },
     "metadata": {},
     "output_type": "display_data"
    },
    {
     "name": "stdout",
     "output_type": "stream",
     "text": [
      "test_loss: 1.8090836306413014 test_acc: 0.695652186870575 test_AUC 0.8000000715255737 prediction tensor([8.6203e-04, 2.5800e-02, 1.3910e-04,  ..., 3.4516e-03, 3.1368e-03,\n",
      "        7.3634e-05], device='cuda:0') target tensor([0, 0, 0,  ..., 0, 0, 0], device='cuda:0')\n",
      "naems: ['25_A1', '276_A1', '279_A1', '280_A1', '313_A1', '314_A1', '327_A1', '32_A1', '333_A1', '337_A1', '339_A1', '33_A1', '347_A1', '349_A1', '351_A1', '353_A1', '35_A2', '360_A1', '366_A1', '374_A1', '37_A1', '393_A1', '411_A1'] target: tensor([0, 1, 1, 1, 1, 0, 1, 1, 0, 1, 1, 0, 1, 1, 1, 0, 0, 1, 1, 1, 0, 1, 0]) pred_label: tensor([0, 1, 0, 1, 1, 0, 1, 1, 0, 0, 0, 0, 1, 0, 1, 1, 0, 1, 0, 1, 0, 0, 0])\n"
     ]
    },
    {
     "data": {
      "text/html": [
       "Finishing last run (ID:y8olmebm) before initializing another..."
      ],
      "text/plain": [
       "<IPython.core.display.HTML object>"
      ]
     },
     "metadata": {},
     "output_type": "display_data"
    },
    {
     "data": {
      "application/vnd.jupyter.widget-view+json": {
       "model_id": "0b89383502184fc8aebbddd72f10b656",
       "version_major": 2,
       "version_minor": 0
      },
      "text/plain": [
       "VBox(children=(Label(value='0.001 MB of 0.001 MB uploaded\\r'), FloatProgress(value=1.0, max=1.0)))"
      ]
     },
     "metadata": {},
     "output_type": "display_data"
    },
    {
     "data": {
      "text/html": [
       "<style>\n",
       "    table.wandb td:nth-child(1) { padding: 0 10px; text-align: left ; width: auto;} td:nth-child(2) {text-align: left ; width: 100%}\n",
       "    .wandb-row { display: flex; flex-direction: row; flex-wrap: wrap; justify-content: flex-start; width: 100% }\n",
       "    .wandb-col { display: flex; flex-direction: column; flex-basis: 100%; flex: 1; padding: 10px; }\n",
       "    </style>\n",
       "<div class=\"wandb-row\"><div class=\"wandb-col\"><h3>Run history:</h3><br/><table class=\"wandb\"><tr><td>AUC</td><td>▁▇▇███████████████████████████</td></tr><tr><td>epoch</td><td>▁▁▁▂▂▂▂▃▃▃▃▄▄▄▄▅▅▅▅▆▆▆▆▇▇▇▇███</td></tr><tr><td>train loss</td><td>█▃▁▁▁▁▁▁▁▁▁▁▁▁▁▁▁▁▁▁▁▁▁▁▁▁▁▁▁▁</td></tr><tr><td>validation loss</td><td>█▃▂▁▁▁▁▁▁▁▁▁▁▁▁▁▁▁▁▁▁▁▁▁▁▁▁▁▁▁</td></tr></table><br/></div><div class=\"wandb-col\"><h3>Run summary:</h3><br/><table class=\"wandb\"><tr><td>AUC</td><td>0.99801</td></tr><tr><td>epoch</td><td>29</td></tr><tr><td>train loss</td><td>8e-05</td></tr><tr><td>validation loss</td><td>0.06715</td></tr></table><br/></div></div>"
      ],
      "text/plain": [
       "<IPython.core.display.HTML object>"
      ]
     },
     "metadata": {},
     "output_type": "display_data"
    },
    {
     "data": {
      "text/html": [
       " View run <strong style=\"color:#cdcd00\">fold2</strong> at: <a href='https://wandb.ai/kimia_rezaei/05032024_resnet18_smalldataset_HIE/runs/y8olmebm' target=\"_blank\">https://wandb.ai/kimia_rezaei/05032024_resnet18_smalldataset_HIE/runs/y8olmebm</a><br/>Synced 6 W&B file(s), 0 media file(s), 0 artifact file(s) and 0 other file(s)"
      ],
      "text/plain": [
       "<IPython.core.display.HTML object>"
      ]
     },
     "metadata": {},
     "output_type": "display_data"
    },
    {
     "data": {
      "text/html": [
       "Find logs at: <code>.\\wandb\\run-20240305_160400-y8olmebm\\logs</code>"
      ],
      "text/plain": [
       "<IPython.core.display.HTML object>"
      ]
     },
     "metadata": {},
     "output_type": "display_data"
    },
    {
     "data": {
      "text/html": [
       "Successfully finished last run (ID:y8olmebm). Initializing new run:<br/>"
      ],
      "text/plain": [
       "<IPython.core.display.HTML object>"
      ]
     },
     "metadata": {},
     "output_type": "display_data"
    },
    {
     "data": {
      "application/vnd.jupyter.widget-view+json": {
       "model_id": "9eab51b3f93c4fbaac473e7f4cc1161e",
       "version_major": 2,
       "version_minor": 0
      },
      "text/plain": [
       "VBox(children=(Label(value='Waiting for wandb.init()...\\r'), FloatProgress(value=0.011288888888925108, max=1.0…"
      ]
     },
     "metadata": {},
     "output_type": "display_data"
    },
    {
     "data": {
      "text/html": [
       "Tracking run with wandb version 0.16.3"
      ],
      "text/plain": [
       "<IPython.core.display.HTML object>"
      ]
     },
     "metadata": {},
     "output_type": "display_data"
    },
    {
     "data": {
      "text/html": [
       "Run data is saved locally in <code>C:\\Users\\krezaei\\OneDrive - University College Cork\\jupyterdir\\rr_peaks_HIE_grades_anon_v2\\wandb\\run-20240305_161924-zj8oidi3</code>"
      ],
      "text/plain": [
       "<IPython.core.display.HTML object>"
      ]
     },
     "metadata": {},
     "output_type": "display_data"
    },
    {
     "data": {
      "text/html": [
       "Syncing run <strong><a href='https://wandb.ai/kimia_rezaei/05032024_resnet18_smalldataset_HIE/runs/zj8oidi3' target=\"_blank\">fold3</a></strong> to <a href='https://wandb.ai/kimia_rezaei/05032024_resnet18_smalldataset_HIE' target=\"_blank\">Weights & Biases</a> (<a href='https://wandb.me/run' target=\"_blank\">docs</a>)<br/>"
      ],
      "text/plain": [
       "<IPython.core.display.HTML object>"
      ]
     },
     "metadata": {},
     "output_type": "display_data"
    },
    {
     "data": {
      "text/html": [
       " View project at <a href='https://wandb.ai/kimia_rezaei/05032024_resnet18_smalldataset_HIE' target=\"_blank\">https://wandb.ai/kimia_rezaei/05032024_resnet18_smalldataset_HIE</a>"
      ],
      "text/plain": [
       "<IPython.core.display.HTML object>"
      ]
     },
     "metadata": {},
     "output_type": "display_data"
    },
    {
     "data": {
      "text/html": [
       " View run at <a href='https://wandb.ai/kimia_rezaei/05032024_resnet18_smalldataset_HIE/runs/zj8oidi3' target=\"_blank\">https://wandb.ai/kimia_rezaei/05032024_resnet18_smalldataset_HIE/runs/zj8oidi3</a>"
      ],
      "text/plain": [
       "<IPython.core.display.HTML object>"
      ]
     },
     "metadata": {},
     "output_type": "display_data"
    },
    {
     "name": "stdout",
     "output_type": "stream",
     "text": [
      "test_loss: 2.512111554543177 test_acc: 0.47826087474823 test_AUC 0.579365074634552 prediction tensor([9.9997e-01, 9.9464e-01, 9.8801e-01,  ..., 7.3541e-01, 7.4579e-03,\n",
      "        2.5214e-04], device='cuda:0') target tensor([1, 1, 1,  ..., 1, 1, 1], device='cuda:0')\n",
      "naems: ['425_A1', '434_A1', '446_A1', '45_A2', '460_A1', '476_A1', '477_A1', '48_A1', '4_A2', '504_A1', '506_A1', '50_A2', '512_A1', '517_A1', '51_A1', '529_A1', '53_A1', '540_A1', '546_A1', '54_A1', '558_A1', '559_A1', '560_A1'] target: tensor([1, 1, 0, 0, 1, 1, 0, 1, 1, 0, 0, 1, 0, 1, 0, 1, 1, 1, 1, 0, 0, 1, 1]) pred_label: tensor([1, 0, 0, 0, 0, 1, 0, 0, 0, 1, 0, 0, 1, 1, 0, 0, 0, 1, 0, 0, 1, 1, 0])\n"
     ]
    },
    {
     "data": {
      "text/html": [
       "Finishing last run (ID:zj8oidi3) before initializing another..."
      ],
      "text/plain": [
       "<IPython.core.display.HTML object>"
      ]
     },
     "metadata": {},
     "output_type": "display_data"
    },
    {
     "data": {
      "application/vnd.jupyter.widget-view+json": {
       "model_id": "3040606477fd48b6b8b45cfd93e4b4b5",
       "version_major": 2,
       "version_minor": 0
      },
      "text/plain": [
       "VBox(children=(Label(value='0.001 MB of 0.001 MB uploaded\\r'), FloatProgress(value=1.0, max=1.0)))"
      ]
     },
     "metadata": {},
     "output_type": "display_data"
    },
    {
     "data": {
      "text/html": [
       "<style>\n",
       "    table.wandb td:nth-child(1) { padding: 0 10px; text-align: left ; width: auto;} td:nth-child(2) {text-align: left ; width: 100%}\n",
       "    .wandb-row { display: flex; flex-direction: row; flex-wrap: wrap; justify-content: flex-start; width: 100% }\n",
       "    .wandb-col { display: flex; flex-direction: column; flex-basis: 100%; flex: 1; padding: 10px; }\n",
       "    </style>\n",
       "<div class=\"wandb-row\"><div class=\"wandb-col\"><h3>Run history:</h3><br/><table class=\"wandb\"><tr><td>AUC</td><td>▁▇▇███████████████████████████</td></tr><tr><td>epoch</td><td>▁▁▁▂▂▂▂▃▃▃▃▄▄▄▄▅▅▅▅▆▆▆▆▇▇▇▇███</td></tr><tr><td>train loss</td><td>█▃▁▁▁▁▁▁▁▁▁▁▁▁▁▁▁▁▁▁▁▁▁▁▁▁▁▁▁▁</td></tr><tr><td>validation loss</td><td>█▃▂▂▁▂▁▁▁▁▁▁▁▁▁▁▁▁▁▁▁▁▁▁▁▁▁▁▁▁</td></tr></table><br/></div><div class=\"wandb-col\"><h3>Run summary:</h3><br/><table class=\"wandb\"><tr><td>AUC</td><td>0.9986</td></tr><tr><td>epoch</td><td>29</td></tr><tr><td>train loss</td><td>0.00011</td></tr><tr><td>validation loss</td><td>0.05027</td></tr></table><br/></div></div>"
      ],
      "text/plain": [
       "<IPython.core.display.HTML object>"
      ]
     },
     "metadata": {},
     "output_type": "display_data"
    },
    {
     "data": {
      "text/html": [
       " View run <strong style=\"color:#cdcd00\">fold3</strong> at: <a href='https://wandb.ai/kimia_rezaei/05032024_resnet18_smalldataset_HIE/runs/zj8oidi3' target=\"_blank\">https://wandb.ai/kimia_rezaei/05032024_resnet18_smalldataset_HIE/runs/zj8oidi3</a><br/>Synced 6 W&B file(s), 0 media file(s), 0 artifact file(s) and 0 other file(s)"
      ],
      "text/plain": [
       "<IPython.core.display.HTML object>"
      ]
     },
     "metadata": {},
     "output_type": "display_data"
    },
    {
     "data": {
      "text/html": [
       "Find logs at: <code>.\\wandb\\run-20240305_161924-zj8oidi3\\logs</code>"
      ],
      "text/plain": [
       "<IPython.core.display.HTML object>"
      ]
     },
     "metadata": {},
     "output_type": "display_data"
    },
    {
     "data": {
      "text/html": [
       "Successfully finished last run (ID:zj8oidi3). Initializing new run:<br/>"
      ],
      "text/plain": [
       "<IPython.core.display.HTML object>"
      ]
     },
     "metadata": {},
     "output_type": "display_data"
    },
    {
     "data": {
      "application/vnd.jupyter.widget-view+json": {
       "model_id": "22cb9f93afe24a6cb3ee8e73230e3508",
       "version_major": 2,
       "version_minor": 0
      },
      "text/plain": [
       "VBox(children=(Label(value='Waiting for wandb.init()...\\r'), FloatProgress(value=0.011277777777932999, max=1.0…"
      ]
     },
     "metadata": {},
     "output_type": "display_data"
    },
    {
     "data": {
      "text/html": [
       "Tracking run with wandb version 0.16.3"
      ],
      "text/plain": [
       "<IPython.core.display.HTML object>"
      ]
     },
     "metadata": {},
     "output_type": "display_data"
    },
    {
     "data": {
      "text/html": [
       "Run data is saved locally in <code>C:\\Users\\krezaei\\OneDrive - University College Cork\\jupyterdir\\rr_peaks_HIE_grades_anon_v2\\wandb\\run-20240305_163525-bm09nub1</code>"
      ],
      "text/plain": [
       "<IPython.core.display.HTML object>"
      ]
     },
     "metadata": {},
     "output_type": "display_data"
    },
    {
     "data": {
      "text/html": [
       "Syncing run <strong><a href='https://wandb.ai/kimia_rezaei/05032024_resnet18_smalldataset_HIE/runs/bm09nub1' target=\"_blank\">fold4</a></strong> to <a href='https://wandb.ai/kimia_rezaei/05032024_resnet18_smalldataset_HIE' target=\"_blank\">Weights & Biases</a> (<a href='https://wandb.me/run' target=\"_blank\">docs</a>)<br/>"
      ],
      "text/plain": [
       "<IPython.core.display.HTML object>"
      ]
     },
     "metadata": {},
     "output_type": "display_data"
    },
    {
     "data": {
      "text/html": [
       " View project at <a href='https://wandb.ai/kimia_rezaei/05032024_resnet18_smalldataset_HIE' target=\"_blank\">https://wandb.ai/kimia_rezaei/05032024_resnet18_smalldataset_HIE</a>"
      ],
      "text/plain": [
       "<IPython.core.display.HTML object>"
      ]
     },
     "metadata": {},
     "output_type": "display_data"
    },
    {
     "data": {
      "text/html": [
       " View run at <a href='https://wandb.ai/kimia_rezaei/05032024_resnet18_smalldataset_HIE/runs/bm09nub1' target=\"_blank\">https://wandb.ai/kimia_rezaei/05032024_resnet18_smalldataset_HIE/runs/bm09nub1</a>"
      ],
      "text/plain": [
       "<IPython.core.display.HTML object>"
      ]
     },
     "metadata": {},
     "output_type": "display_data"
    },
    {
     "name": "stdout",
     "output_type": "stream",
     "text": [
      "test_loss: 1.2319714824358623 test_acc: 0.739130437374115 test_AUC 0.8230769038200378 prediction tensor([0.0277, 0.0011, 0.0047,  ..., 0.9984, 0.9949, 0.9993], device='cuda:0') target tensor([1, 1, 1,  ..., 1, 1, 1], device='cuda:0')\n",
      "naems: ['572_A1', '576_A1', '57_A1', '57_A2', '590_A1', '601_A1', '620_A1', '62_A2', '631_A1', '63_A1', '647_A1', '710_A1', '713_A1', '730_A1', '734_A1', '751_A1', '75_A2', '79_A2', '85_A1', '95_A1', '95_A2', '96_A2', '97_A2'] target: tensor([1, 0, 1, 1, 0, 0, 1, 1, 1, 0, 0, 1, 0, 0, 0, 0, 0, 0, 0, 0, 1, 1, 1]) pred_label: tensor([0, 1, 1, 1, 1, 0, 1, 1, 1, 0, 1, 0, 0, 0, 0, 0, 0, 0, 0, 0, 1, 0, 1])\n"
     ]
    },
    {
     "data": {
      "application/vnd.jupyter.widget-view+json": {
       "model_id": "46b76ad042d643f1ad46dd6b7b5e584c",
       "version_major": 2,
       "version_minor": 0
      },
      "text/plain": [
       "VBox(children=(Label(value='0.001 MB of 0.001 MB uploaded\\r'), FloatProgress(value=1.0, max=1.0)))"
      ]
     },
     "metadata": {},
     "output_type": "display_data"
    },
    {
     "data": {
      "text/html": [
       "<style>\n",
       "    table.wandb td:nth-child(1) { padding: 0 10px; text-align: left ; width: auto;} td:nth-child(2) {text-align: left ; width: 100%}\n",
       "    .wandb-row { display: flex; flex-direction: row; flex-wrap: wrap; justify-content: flex-start; width: 100% }\n",
       "    .wandb-col { display: flex; flex-direction: column; flex-basis: 100%; flex: 1; padding: 10px; }\n",
       "    </style>\n",
       "<div class=\"wandb-row\"><div class=\"wandb-col\"><h3>Run history:</h3><br/><table class=\"wandb\"><tr><td>AUC</td><td>▁▇█▆██████████████████████████</td></tr><tr><td>epoch</td><td>▁▁▁▂▂▂▂▃▃▃▃▄▄▄▄▅▅▅▅▆▆▆▆▇▇▇▇███</td></tr><tr><td>train loss</td><td>█▃▁▁▁▁▁▁▁▁▁▁▁▁▁▁▁▁▁▁▁▁▁▁▁▁▁▁▁▁</td></tr><tr><td>validation loss</td><td>█▃▂▄▁▂▁▁▁▁▁▁▁▁▁▁▁▁▁▁▁▁▁▁▁▁▁▁▁▁</td></tr></table><br/></div><div class=\"wandb-col\"><h3>Run summary:</h3><br/><table class=\"wandb\"><tr><td>AUC</td><td>0.99867</td></tr><tr><td>epoch</td><td>29</td></tr><tr><td>train loss</td><td>0.00011</td></tr><tr><td>validation loss</td><td>0.05384</td></tr></table><br/></div></div>"
      ],
      "text/plain": [
       "<IPython.core.display.HTML object>"
      ]
     },
     "metadata": {},
     "output_type": "display_data"
    },
    {
     "data": {
      "text/html": [
       " View run <strong style=\"color:#cdcd00\">fold4</strong> at: <a href='https://wandb.ai/kimia_rezaei/05032024_resnet18_smalldataset_HIE/runs/bm09nub1' target=\"_blank\">https://wandb.ai/kimia_rezaei/05032024_resnet18_smalldataset_HIE/runs/bm09nub1</a><br/>Synced 6 W&B file(s), 0 media file(s), 0 artifact file(s) and 0 other file(s)"
      ],
      "text/plain": [
       "<IPython.core.display.HTML object>"
      ]
     },
     "metadata": {},
     "output_type": "display_data"
    },
    {
     "data": {
      "text/html": [
       "Find logs at: <code>.\\wandb\\run-20240305_163525-bm09nub1\\logs</code>"
      ],
      "text/plain": [
       "<IPython.core.display.HTML object>"
      ]
     },
     "metadata": {},
     "output_type": "display_data"
    },
    {
     "name": "stdout",
     "output_type": "stream",
     "text": [
      "Total Execution Time: 4702.929641008377\n"
     ]
    }
   ],
   "source": [
    "# Taining the model\n",
    "start = time.time()           #count the Execution time\n",
    "#save the initial model to start from the begining for each fold\n",
    "\n",
    "# data frame to save all patients result\n",
    "result_df = pd.DataFrame([], dtype=float)\n",
    "\n",
    "# K fold cross validation\n",
    "kf = KFold(n_splits=number_folds)\n",
    "for fold, (train_index, test_index) in enumerate(kf.split(files_path)):\n",
    "    # splite data into folds based on baby numbers(path)\n",
    "    train_folders = [files_path[x] for x in train_index]\n",
    "    test_folders = [files_path[x] for x in test_index] \n",
    "    \n",
    "    train_set_files_full = [sorted(glob.glob(os.path.join(path,'*.png'))) for path in train_folders]\n",
    "    test_set_files = [sorted(glob.glob(os.path.join(path,'*.png'))) for path in test_folders ] \n",
    "    \n",
    "    # flatten the lists\n",
    "    train_set_files_full = list(chain(*train_set_files_full))\n",
    "    test_set_files = list(chain(*test_set_files))\n",
    "    \n",
    "    # get name of test patients and their number of samples\n",
    "    signal_name_info = list([dataname.split('\\\\')[1] for dataname in test_folders])    # all test samples patient name\n",
    "    samples_test_set = list([dataname.split('\\\\')[1] for dataname in test_set_files])    # all test samples patient name\n",
    "    size_patients = [samples_test_set.count(item) for item in signal_name_info]              # number of each patient's sample\n",
    "    \n",
    "    # Create your custom dataset\n",
    "    train_ds_full = my_image_dataset(root_dir=train_set_files_full, transformer=transformer, annotation_file=annotation_df)\n",
    "    test_ds = my_image_dataset(root_dir=test_set_files, transformer=transformer, annotation_file=annotation_df)\n",
    "\n",
    "    #split train and validation set(for internal cross validation)\n",
    "    validation_size = int(0.3* len(train_ds_full))\n",
    "    train_size = len(train_ds_full) - validation_size\n",
    "    train_ds, val_ds = random_split(train_ds_full, [train_size, validation_size])\n",
    "\n",
    "    #seperating data into batches\n",
    "    train_dl = DataLoader(train_ds, batch_size=254, shuffle=True)\n",
    "    validation_dl = DataLoader(val_ds, batch_size=254)\n",
    "    test_dl = DataLoader(test_ds, batch_size=254)\n",
    "\n",
    "    # move data to GPU\n",
    "    train_loader = DeviceDataLoader(train_dl,device)\n",
    "    validation_loader = DeviceDataLoader(validation_dl,device)\n",
    "    test_loader = DeviceDataLoader(test_dl,device)\n",
    "\n",
    "    #save the initial model to start from the begining for each fold\n",
    "    model = copy.deepcopy(model_gpu)\n",
    "    optimizer = opt_func(model.parameters(), lr = lr)           #parameter optimizer function\n",
    "    \n",
    "    # initialize variables\n",
    "    best_auc = 0\n",
    "    best_model = None\n",
    "    \n",
    "    test_loss = 0.0\n",
    "    batch_out_test = []\n",
    "    batch_labels_test = []\n",
    "\n",
    "    # weight and biases config\n",
    "    wandb.init(\n",
    "        # Set the project where this run will be logged\n",
    "        project=\"05032024_resnet18_smalldataset_HIE\",\n",
    "        # Track hyperparameters and run metadata\n",
    "        name=f\"fold{fold}\",\n",
    "        config={\n",
    "            \"learning_rate\": 1e-4,\n",
    "            \"epochs\": 50,\n",
    "        },\n",
    "    )\n",
    "    \n",
    "    for epoch in range(epochs):\n",
    "        \n",
    "        train_loss = 0.0\n",
    "        val_loss = 0.0\n",
    "        batch_out = []\n",
    "        batch_labels = []\n",
    "\n",
    "        # Training Phase \n",
    "        model.train()\n",
    "        for batch in train_loader:\n",
    "            images, labels = batch\n",
    "            images, labels = images.to(device), labels.to(device)\n",
    "            optimizer.zero_grad()\n",
    "            out = model(images)\n",
    "            loss = F.cross_entropy(out, labels)\n",
    "            loss.backward()\n",
    "            optimizer.step()\n",
    "\n",
    "            train_loss += loss.item()\n",
    "\n",
    "        # Calculate the average loss for the epoch\n",
    "        epoch_loss_train = train_loss / len(train_loader)\n",
    "\n",
    "        # Validation phase\n",
    "        model.eval()    \n",
    "        with torch.no_grad():\n",
    "            for batch in validation_loader:\n",
    "                images, labels = batch\n",
    "                images, labels = images.to(device), labels.to(device)\n",
    "                \n",
    "                batch_labels.append(labels)              # append labels of all batches\n",
    "                out_V = model(images)\n",
    "                batch_out.append(out_V)                       # append output of all batches\n",
    "                loss_V = F.cross_entropy(out_V, labels)\n",
    "\n",
    "                # sum of all losses\n",
    "                val_loss += loss_V.item()\n",
    "\n",
    "        # calculate average loss for each epoch\n",
    "        epoch_loss_val = val_loss / len(validation_loader)\n",
    "\n",
    "        # concatenate output and labels of each epoch\n",
    "        epoch_labels = torch.cat(batch_labels)\n",
    "        epoch_out = torch.cat(batch_out) \n",
    "\n",
    "        # calculate evaluation metrics\n",
    "        # prediction probability and labels\n",
    "        #_ , soft_pred = torch.max(epoch_out, dim=1)     # use soft max for prediction labels\n",
    "        prob_val = torch.softmax(epoch_out, dim=1)[:, 1]\n",
    "\n",
    "        # AUC\n",
    "        auc_metrics = BinaryAUROC()\n",
    "        auc_val = auc_metrics(prob_val, epoch_labels)\n",
    "\n",
    "        # save the best model based on validation AUC\n",
    "        if auc_val >= best_auc:\n",
    "            best_auc = auc_val\n",
    "            best_model = model\n",
    "            best_epoch = epoch\n",
    "            \n",
    "        # weight and biases logs to \n",
    "        wandb.log({\"epoch\": epoch, \"train loss\": epoch_loss_train, \"validation loss\": epoch_loss_val, \"AUC\": auc_val.item()})\n",
    "\n",
    "    # Test phase\n",
    "    test_loss = 0.0\n",
    "    batch_out_test = []\n",
    "    batch_labels_test = []\n",
    "    best_model.eval()    \n",
    "    with torch.no_grad():\n",
    "        for batch in test_loader:\n",
    "            images, labels = batch\n",
    "            images, labels = images.to(device), labels.to(device)\n",
    "            batch_labels_test.append(labels)              # append labels of all batches\n",
    "            out_T = best_model(images)\n",
    "            batch_out_test.append(out_T)                       # append output of all batches\n",
    "            loss_T = F.cross_entropy(out_T, labels)\n",
    "\n",
    "            # sum of all losses\n",
    "            test_loss += loss_T.item()\n",
    "\n",
    "    # calculate average loss for each epoch\n",
    "    epoch_loss_test = test_loss / len(test_loader)\n",
    "\n",
    "    # concatenate output and labels of each epoch\n",
    "    epoch_labels_test = torch.cat(batch_labels_test)\n",
    "    epoch_out_test = torch.cat(batch_out_test) \n",
    "    \n",
    "    # calculate evaluation metrics\n",
    "    # prediction probability and labels\n",
    "    prob_test = torch.softmax(epoch_out_test, dim=1)[:, 1]\n",
    "    # get probabilities for each patient\n",
    "    prob_split = torch.split(prob_test, size_patients)                # split probabilities of each patient(based on patient number of samples)\n",
    "    patient_prob = torch.tensor([torch.mean(i) for i in prob_split])      # for each patients get everage of all probabilities\n",
    "    patients_pred_label = (patient_prob>=0.5).long()\n",
    "    \n",
    "    # get labels for each patient\n",
    "    labels_split = torch.split(epoch_labels_test, size_patients)              # split labels of each patient(based on patient number of samples)\n",
    "    target = torch.tensor([torch.mode(i)[0] for i in labels_split]) # for each patients get majority of all labels\n",
    "\n",
    "    # Accuracy\n",
    "    acc_metrics = BinaryAccuracy().to(device)\n",
    "    acc = acc_metrics(patient_prob, target)\n",
    "    # AUC\n",
    "    auc_metrics = BinaryAUROC()\n",
    "    auc = auc_metrics(patient_prob, target)\n",
    "\n",
    "    # make a dataframe from results\n",
    "    df_data = {'names':signal_name_info, 'prob':patient_prob.cpu().numpy(), 'prediction': patients_pred_label.cpu().numpy() , 'grade': target.cpu().numpy()}    \n",
    "    fold_df = pd.DataFrame(df_data)    #each fold dataframe\n",
    "    result_df = pd.concat([result_df, fold_df], ignore_index=True)   # concatenate all folds results\n",
    "    \n",
    "    print('test_loss:', epoch_loss_test , 'test_acc:', acc.item() ,'test_AUC', auc.item(), 'prediction', prob_test, 'target', epoch_labels_test )\n",
    "    print('names:', signal_name_info, 'target:', target, 'pred_label:', patients_pred_label)\n",
    "      \n",
    "wandb.finish()\n",
    "end = time.time()\n",
    "total_time = end - start\n",
    "print(f'Total Execution Time: {total_time}')"
   ]
  },
  {
   "cell_type": "code",
   "execution_count": 25,
   "id": "1300c9f4-17e1-4ea6-a10f-a9080d9a568b",
   "metadata": {},
   "outputs": [
    {
     "data": {
      "text/html": [
       "<div>\n",
       "<style scoped>\n",
       "    .dataframe tbody tr th:only-of-type {\n",
       "        vertical-align: middle;\n",
       "    }\n",
       "\n",
       "    .dataframe tbody tr th {\n",
       "        vertical-align: top;\n",
       "    }\n",
       "\n",
       "    .dataframe thead th {\n",
       "        text-align: right;\n",
       "    }\n",
       "</style>\n",
       "<table border=\"1\" class=\"dataframe\">\n",
       "  <thead>\n",
       "    <tr style=\"text-align: right;\">\n",
       "      <th></th>\n",
       "      <th>names</th>\n",
       "      <th>prob</th>\n",
       "      <th>prediction</th>\n",
       "      <th>grade</th>\n",
       "    </tr>\n",
       "  </thead>\n",
       "  <tbody>\n",
       "    <tr>\n",
       "      <th>0</th>\n",
       "      <td>101_A2</td>\n",
       "      <td>0.696666</td>\n",
       "      <td>1</td>\n",
       "      <td>1</td>\n",
       "    </tr>\n",
       "    <tr>\n",
       "      <th>1</th>\n",
       "      <td>102_A1</td>\n",
       "      <td>0.000147</td>\n",
       "      <td>0</td>\n",
       "      <td>0</td>\n",
       "    </tr>\n",
       "    <tr>\n",
       "      <th>2</th>\n",
       "      <td>102_A2</td>\n",
       "      <td>0.725589</td>\n",
       "      <td>1</td>\n",
       "      <td>0</td>\n",
       "    </tr>\n",
       "    <tr>\n",
       "      <th>3</th>\n",
       "      <td>107_A1</td>\n",
       "      <td>0.902702</td>\n",
       "      <td>1</td>\n",
       "      <td>1</td>\n",
       "    </tr>\n",
       "    <tr>\n",
       "      <th>4</th>\n",
       "      <td>107_A2</td>\n",
       "      <td>0.299990</td>\n",
       "      <td>0</td>\n",
       "      <td>0</td>\n",
       "    </tr>\n",
       "    <tr>\n",
       "      <th>...</th>\n",
       "      <td>...</td>\n",
       "      <td>...</td>\n",
       "      <td>...</td>\n",
       "      <td>...</td>\n",
       "    </tr>\n",
       "    <tr>\n",
       "      <th>112</th>\n",
       "      <td>85_A1</td>\n",
       "      <td>0.000390</td>\n",
       "      <td>0</td>\n",
       "      <td>0</td>\n",
       "    </tr>\n",
       "    <tr>\n",
       "      <th>113</th>\n",
       "      <td>95_A1</td>\n",
       "      <td>0.405007</td>\n",
       "      <td>0</td>\n",
       "      <td>0</td>\n",
       "    </tr>\n",
       "    <tr>\n",
       "      <th>114</th>\n",
       "      <td>95_A2</td>\n",
       "      <td>0.999996</td>\n",
       "      <td>1</td>\n",
       "      <td>1</td>\n",
       "    </tr>\n",
       "    <tr>\n",
       "      <th>115</th>\n",
       "      <td>96_A2</td>\n",
       "      <td>0.398784</td>\n",
       "      <td>0</td>\n",
       "      <td>1</td>\n",
       "    </tr>\n",
       "    <tr>\n",
       "      <th>116</th>\n",
       "      <td>97_A2</td>\n",
       "      <td>0.999673</td>\n",
       "      <td>1</td>\n",
       "      <td>1</td>\n",
       "    </tr>\n",
       "  </tbody>\n",
       "</table>\n",
       "<p>117 rows × 4 columns</p>\n",
       "</div>"
      ],
      "text/plain": [
       "      names      prob  prediction  grade\n",
       "0    101_A2  0.696666           1      1\n",
       "1    102_A1  0.000147           0      0\n",
       "2    102_A2  0.725589           1      0\n",
       "3    107_A1  0.902702           1      1\n",
       "4    107_A2  0.299990           0      0\n",
       "..      ...       ...         ...    ...\n",
       "112   85_A1  0.000390           0      0\n",
       "113   95_A1  0.405007           0      0\n",
       "114   95_A2  0.999996           1      1\n",
       "115   96_A2  0.398784           0      1\n",
       "116   97_A2  0.999673           1      1\n",
       "\n",
       "[117 rows x 4 columns]"
      ]
     },
     "execution_count": 25,
     "metadata": {},
     "output_type": "execute_result"
    }
   ],
   "source": [
    "result_df"
   ]
  },
  {
   "cell_type": "code",
   "execution_count": 24,
   "id": "a3de8e6a-1ca8-4d53-9019-801bf592d5bf",
   "metadata": {},
   "outputs": [],
   "source": [
    "result_df.to_csv('models/05032024_resnet18_HIE_result.csv', index=False)"
   ]
  },
  {
   "cell_type": "markdown",
   "id": "80f83771-d1ae-41ae-8858-b192bd4fc7b1",
   "metadata": {},
   "source": [
    "# Method evaluation"
   ]
  },
  {
   "cell_type": "code",
   "execution_count": 16,
   "id": "f95e9898-9f43-4cf5-8aa7-782667edddba",
   "metadata": {},
   "outputs": [
    {
     "name": "stdout",
     "output_type": "stream",
     "text": [
      "accuracy: 0.6068376068376068 f1 score 0.6074130787245541\n"
     ]
    }
   ],
   "source": [
    "accuracy = accuracy_score(result_df['grade'], result_df['prediction'])\n",
    "fscore = f1_score(result_df['grade'], result_df['prediction'], average='weighted')\n",
    "print('accuracy:', accuracy, 'f1 score', fscore )"
   ]
  },
  {
   "cell_type": "code",
   "execution_count": 17,
   "id": "418f12ad-5165-47c4-a4b2-a116019bcaae",
   "metadata": {},
   "outputs": [],
   "source": [
    "cm = confusion_matrix(result_df['grade'], result_df['prediction'])"
   ]
  },
  {
   "cell_type": "code",
   "execution_count": 18,
   "id": "7a74311f-9369-422b-a6da-b58bbd0a37d8",
   "metadata": {},
   "outputs": [
    {
     "data": {
      "text/plain": [
       "<sklearn.metrics._plot.confusion_matrix.ConfusionMatrixDisplay at 0x2032924d6d0>"
      ]
     },
     "execution_count": 18,
     "metadata": {},
     "output_type": "execute_result"
    },
    {
     "data": {
      "image/png": "[encoded data removed]",
      "text/plain": [
       "<Figure size 640x480 with 2 Axes>"
      ]
     },
     "metadata": {},
     "output_type": "display_data"
    }
   ],
   "source": [
    "disp = ConfusionMatrixDisplay(confusion_matrix=cm, display_labels=['grade 1','grade 2'])\n",
    "disp.plot()"
   ]
  },
  {
   "cell_type": "markdown",
   "id": "45c5b1db-b5bd-4e02-85f5-067360e3225c",
   "metadata": {},
   "source": [
    "**Confusion Matrix**            \n",
    "in confusion matrix we have:             \n",
    "C(0,0) = TN             \n",
    "C(1,0) = FN              \n",
    "C(1,1) = TP               \n",
    "C(0,1) =  FP    \n",
    "\n",
    "**sensitivity or true positive rate (TPR):**\n",
    "$$sensitivity =\\frac {TP}{TP + FN}=1-FNR$$             \n",
    "\n",
    "**specificity or true negative rate (TNR):**\n",
    "$$specificity =\\frac{TN}{TN + FP}=1-FPR$$    "
   ]
  },
  {
   "cell_type": "code",
   "execution_count": 19,
   "id": "425b7fa0-4bcb-4c75-a72c-e89548c1eb70",
   "metadata": {},
   "outputs": [
    {
     "name": "stdout",
     "output_type": "stream",
     "text": [
      "sensitivity =  0.6031746031746031 specificity =  0.6111111111111112\n"
     ]
    }
   ],
   "source": [
    "TN = cm[0,0]\n",
    "FN = cm[1,0]\n",
    "TP = cm[1,1]\n",
    "FP = cm[0,1]\n",
    "sens = TP/(TP+FN)\n",
    "spc = TN/(TN+FP)\n",
    "print('sensitivity = ', sens, 'specificity = ', spc)"
   ]
  },
  {
   "cell_type": "code",
   "execution_count": 20,
   "id": "5dd5a75c-1cde-4131-9628-ed81bb5ccd96",
   "metadata": {
    "tags": []
   },
   "outputs": [
    {
     "name": "stdout",
     "output_type": "stream",
     "text": [
      "auc value: 0.646384479717813\n"
     ]
    },
    {
     "data": {
      "image/png": "[encoded data removed]",
      "text/plain": [
       "<Figure size 400x200 with 1 Axes>"
      ]
     },
     "metadata": {},
     "output_type": "display_data"
    }
   ],
   "source": [
    "fpr, tpr, thresholds  = roc_curve(result_df['grade'], np.ravel(result_df['prob']))    #compare annotaion file labels with classifier prediction result \n",
    "sensitivity = tpr\n",
    "specificity = 1-fpr\n",
    "\n",
    "plt.figure(figsize=(4,2))\n",
    "plt.plot(specificity, sensitivity, marker='.')\n",
    "plt.title('total ROC curve')\n",
    "plt.xlabel('specificity')\n",
    "plt.ylabel('sensitivity')\n",
    "auc_value = metrics.auc(fpr, tpr)\n",
    "print('auc value:', auc_value)\n",
    "plt.show()"
   ]
  }
 ],
 "metadata": {
  "kernelspec": {
   "display_name": " vasie_kimia ",
   "language": "python",
   "name": "vasie_kimia"
  },
  "language_info": {
   "codemirror_mode": {
    "name": "ipython",
    "version": 3
   },
   "file_extension": ".py",
   "mimetype": "text/x-python",
   "name": "python",
   "nbconvert_exporter": "python",
   "pygments_lexer": "ipython3",
   "version": "3.11.3"
  }
 },
 "nbformat": 4,
 "nbformat_minor": 5
}
